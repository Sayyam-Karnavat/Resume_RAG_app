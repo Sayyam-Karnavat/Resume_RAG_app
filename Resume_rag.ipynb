{
 "cells": [
  {
   "cell_type": "code",
   "execution_count": 5,
   "metadata": {},
   "outputs": [],
   "source": [
    "import fitz\n",
    "\n",
    "\n",
    "def extract_pdf_text(filename):\n",
    "\n",
    "    doc = fitz.open(filename=filename)\n",
    "    text= \"\"\n",
    "    for page in doc:\n",
    "        text += page.get_text(\"text\")\n",
    "\n",
    "    return text\n",
    "\n",
    "\n",
    "Extracted_text = extract_pdf_text(filename=\"dataset/Resume.pdf\")"
   ]
  },
  {
   "cell_type": "code",
   "execution_count": null,
   "metadata": {},
   "outputs": [],
   "source": [
    "from sentence_transformers import SentenceTransformer\n",
    "from nltk.tokenize import sent_tokenize\n",
    "\n",
    "model = SentenceTransformer(model_name_or_path=\"all-MiniLM-L6-v2\")\n",
    "\n",
    "# Tokenize the document into sentences\n",
    "tokenized_setences = sent_tokenize(Extracted_text)\n",
    "\n",
    "\n",
    "# Converting the sentences to vector encoding\n",
    "\n",
    "embeddings = model.encode(tokenized_setences)"
   ]
  },
  {
   "cell_type": "markdown",
   "metadata": {},
   "source": [
    "#### Creating the Retriever (FAISS)"
   ]
  },
  {
   "cell_type": "code",
   "execution_count": 7,
   "metadata": {},
   "outputs": [],
   "source": [
    "import faiss\n",
    "import numpy as np\n",
    "\n",
    "embedding_np = np.array(embeddings)\n",
    "\n",
    "index = faiss.IndexFlatL2(embedding_np.shape[1])\n",
    "\n",
    "index.add(embedding_np)"
   ]
  },
  {
   "cell_type": "markdown",
   "metadata": {},
   "source": [
    "#### Query processor"
   ]
  },
  {
   "cell_type": "code",
   "execution_count": 18,
   "metadata": {},
   "outputs": [
    {
     "name": "stdout",
     "output_type": "stream",
     "text": [
      "Indices [3 4 1]\n",
      "Distances  [1.1575606 1.3573604 1.5754138]\n"
     ]
    }
   ],
   "source": [
    "def process_query(user_query , top_k = 3):\n",
    "\n",
    "    user_query_embeddings = model.encode([user_query])\n",
    "\n",
    "    distance ,indices = index.search(user_query_embeddings , top_k)\n",
    "\n",
    "    return indices[0] , distance[0]\n",
    "\n",
    "\n",
    "User_Query = \"What skills does the candidate have ?\"\n",
    "indices ,distances = process_query(user_query=User_Query)\n",
    "\n",
    "print(\"Indices\" , indices)\n",
    "print(\"Distances \" , distances)"
   ]
  },
  {
   "cell_type": "markdown",
   "metadata": {},
   "source": [
    "#### Create generator"
   ]
  },
  {
   "cell_type": "code",
   "execution_count": null,
   "metadata": {},
   "outputs": [
    {
     "name": "stderr",
     "output_type": "stream",
     "text": [
      "Device set to use cpu\n",
      "Truncation was not explicitly activated but `max_length` is provided a specific value, please use `truncation=True` to explicitly truncate examples to max length. Defaulting to 'longest_first' truncation strategy. If you encode pairs of sequences (GLUE-style) with the tokenizer you can select this strategy more precisely by providing a specific strategy to `truncation`.\n",
      "Setting `pad_token_id` to `eos_token_id`:50256 for open-end generation.\n"
     ]
    },
    {
     "name": "stdout",
     "output_type": "stream",
     "text": [
      "Generated Resposne :- \n",
      "\n",
      " Context :AI skills :-\n",
      "Finetuning(llama3.1 , GPT 3.5),Hugging Face,Scikit-learn,TensorFlow,Keras.\n",
      "Other-Skills :-\n",
      "Flask, Requests,Socketio,Threading, Azure service bus,NLTK OpenPyXL.\n",
      "Data-Skills: :-\n",
      "Pandas,NumPy,Seaborn,Matplotlib,Scapy,BeautifulSoup. Question : What skills does the candidate have ?\n",
      "Answer : I am a Computer Science student. I use many 3rd party frameworks, some are very useful. When you are working on the 3rd party language you must use different kind of approach that are not only in your hands but also have different learning experience. I use a large variety of frameworks in multiple languages to develop and test your skills. I have to believe that this tool also has a lot of practical aspects which are not\n"
     ]
    }
   ],
   "source": [
    "from transformers import pipeline\n",
    "\n",
    "\n",
    "generator = pipeline(task=\"text-generation\" , model=\"gpt2\")\n",
    "\n",
    "relevant_text = '\\n'.join([tokenized_setences[index] for index in indices])\n",
    "\n",
    "response = generator(f\"Context :{relevant_text} Question : {User_Query}\" , max_length = 200)\n",
    "\n",
    "print(\"Generated Resposne :- \\n\\n\" , response[0]['generated_text'])"
   ]
  },
  {
   "cell_type": "code",
   "execution_count": 23,
   "metadata": {},
   "outputs": [
    {
     "name": "stdout",
     "output_type": "stream",
     "text": [
      "{'generated_text': 'Context :AI skills :-\\nFinetuning(llama3.1 , GPT 3.5),Hugging Face,Scikit-learn,TensorFlow,Keras.\\nOther-Skills :-\\nFlask, Requests,Socketio,Threading, Azure service bus,NLTK OpenPyXL.\\nData-Skills: :-\\nPandas,NumPy,Seaborn,Matplotlib,Scapy,BeautifulSoup. Question : What skills does the candidate have ?\\nAnswer : I am a Computer Science student. I use many 3rd party frameworks, some are very useful. When you are working on the 3rd party language you must use different kind of approach that are not only in your hands but also have different learning experience. I use a large variety of frameworks in multiple languages to develop and test your skills. I have to believe that this tool also has a lot of practical aspects which are not'}\n"
     ]
    }
   ],
   "source": [
    "print(response[0])"
   ]
  },
  {
   "cell_type": "code",
   "execution_count": null,
   "metadata": {},
   "outputs": [],
   "source": []
  }
 ],
 "metadata": {
  "kernelspec": {
   "display_name": ".venv",
   "language": "python",
   "name": "python3"
  },
  "language_info": {
   "codemirror_mode": {
    "name": "ipython",
    "version": 3
   },
   "file_extension": ".py",
   "mimetype": "text/x-python",
   "name": "python",
   "nbconvert_exporter": "python",
   "pygments_lexer": "ipython3",
   "version": "3.12.5"
  }
 },
 "nbformat": 4,
 "nbformat_minor": 2
}
